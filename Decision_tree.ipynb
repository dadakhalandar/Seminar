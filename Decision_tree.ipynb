{
  "nbformat": 4,
  "nbformat_minor": 0,
  "metadata": {
    "colab": {
      "name": "Decision_tree.ipynb",
      "provenance": []
    },
    "kernelspec": {
      "name": "python3",
      "display_name": "Python 3"
    },
    "language_info": {
      "name": "python"
    }
  },
  "cells": [
    {
      "cell_type": "code",
      "metadata": {
        "id": "xbxK4p6bm5If"
      },
      "source": [
        "import pandas as pd\n",
        "from sklearn.model_selection import TimeSeriesSplit, train_test_split\n",
        "from sklearn.metrics import  classification_report, log_loss, roc_auc_score, accuracy_score, confusion_matrix\n",
        "from sklearn.model_selection import KFold\n",
        "from sklearn.pipeline import make_pipeline \n",
        "from sklearn.preprocessing import StandardScaler\n",
        "import seaborn as sns\n",
        "import matplotlib.pyplot as plt\n",
        "from sklearn import tree\n"
      ],
      "execution_count": null,
      "outputs": []
    },
    {
      "cell_type": "markdown",
      "metadata": {
        "id": "Z3pP89RtzKgf"
      },
      "source": [
        "#Note: Please add games.csv and ranking.csv file in the Files section"
      ]
    },
    {
      "cell_type": "code",
      "metadata": {
        "id": "LlEHa_DFvriI"
      },
      "source": [
        "#returning the decade from the season\n",
        "def season(data):\n",
        " \n",
        "  return (data%10000)"
      ],
      "execution_count": null,
      "outputs": []
    },
    {
      "cell_type": "code",
      "metadata": {
        "id": "HiKe3hMtvrlW"
      },
      "source": [
        "\n",
        "#function to add + 1 seasonID to merge current games records with previous seasons standings\n",
        "def fun_inc(data):\n",
        "  \n",
        "   return(data+1)"
      ],
      "execution_count": null,
      "outputs": []
    },
    {
      "cell_type": "code",
      "metadata": {
        "id": "johZOHcTvrpt"
      },
      "source": [
        "#function to dec 1 from SeasonID to get back the original season IDS\n",
        "def fun_dec(data):\n",
        "  \n",
        "  return(data-1)\n"
      ],
      "execution_count": null,
      "outputs": []
    },
    {
      "cell_type": "code",
      "metadata": {
        "id": "LGXK5hrwogL_"
      },
      "source": [
        "#Preprocessing the dataset\n",
        "def preprocessing():\n",
        "  games_cols = ['GAME_DATE_EST','GAME_ID','HOME_TEAM_ID','VISITOR_TEAM_ID','SEASON','HOME_TEAM_WINS']\n",
        "  df = pd.read_csv('games.csv', usecols = games_cols,parse_dates=[\"GAME_DATE_EST\"],infer_datetime_format=True)\n",
        "  df = df.drop_duplicates().sort_values(\"GAME_DATE_EST\").set_index([\"GAME_DATE_EST\"])\n",
        "  team_rank = pd.read_csv('ranking.csv', parse_dates=['STANDINGSDATE'])\n",
        "  team_rank.sort_values(\"STANDINGSDATE\",inplace = True)\n",
        "\n",
        "  team_rank['SEASON_ID'] = team_rank['SEASON_ID'].apply(season)\n",
        "\n",
        "\n",
        "  team_rank['SEASON_ID'] = team_rank['SEASON_ID'].apply(fun_inc)\n",
        "  team_rank.drop([\"HOME_RECORD\",\"CONFERENCE\",\"LEAGUE_ID\",\"ROAD_RECORD\"],axis=1,inplace=True) \n",
        "  team_rank.set_index(\"STANDINGSDATE\",inplace=True)\n",
        "\n",
        "  team_rank.astype({'SEASON_ID': 'int32'})\n",
        "  df_final_rank = team_rank[team_rank[\"G\"]==82]\n",
        "  df_final_rank = df_final_rank.drop_duplicates()\n",
        "\n",
        "  #inner Join for the home team\n",
        "  new_df = pd.merge(df,df_final_rank.add_suffix(\"_homeTeam\"),how = \"inner\", left_on=[\"HOME_TEAM_ID\", \"SEASON\"], right_on=['TEAM_ID_homeTeam', \"SEASON_ID_homeTeam\"])\n",
        "\n",
        "  #inner Join for the away team\n",
        "  new_df = pd.merge(new_df,df_final_rank.add_suffix(\"_visitorTeam\"),how = \"inner\", left_on=[\"VISITOR_TEAM_ID\", \"SEASON\"], right_on=['TEAM_ID_visitorTeam', \"SEASON_ID_visitorTeam\"])\n",
        "  \n",
        "  new_df.drop([\"TEAM_ID_homeTeam\",\"SEASON_ID_visitorTeam\",\"TEAM_ID_visitorTeam\"],axis=1,inplace=True)\n",
        "  new_df['SEASON_ID_homeTeam'] = new_df['SEASON_ID_homeTeam'].apply(fun_dec)\n",
        "  return new_df"
      ],
      "execution_count": null,
      "outputs": []
    },
    {
      "cell_type": "code",
      "metadata": {
        "id": "BxW5ERfEogPU"
      },
      "source": [
        "def fp_fn(confu_matrix):\n",
        "    fp,fn = {},{}\n",
        "    fn['Win'] = confu_matrix[1][0]\n",
        "    fn['Lose'] = confu_matrix[0][1]\n",
        "    fp['Win'] = confu_matrix[0][1]\n",
        "    fp['Lose'] = confu_matrix[1][0]\n",
        "    return fp,fn"
      ],
      "execution_count": null,
      "outputs": []
    },
    {
      "cell_type": "code",
      "metadata": {
        "id": "uqyN6RvKpEIu"
      },
      "source": [
        "def per_pos(confu_matrix):\n",
        "    ppos = {}\n",
        "    ppos['Lose'] = confu_matrix[0][0]/(confu_matrix[0][0]+confu_matrix[0][1])\n",
        "    ppos['Win'] = confu_matrix[1][1]/(confu_matrix[1][0]+confu_matrix[1][1])\n",
        "    return ppos"
      ],
      "execution_count": null,
      "outputs": []
    },
    {
      "cell_type": "code",
      "metadata": {
        "colab": {
          "base_uri": "https://localhost:8080/",
          "height": 1000
        },
        "id": "tDLWgOyQpHBb",
        "outputId": "b8e60ff5-5f6d-4e6b-a264-db73b973b721"
      },
      "source": [
        "if __name__ == '__main__':\n",
        "\n",
        "  #score list keeps record of all 5 fold accuracies\n",
        "  score = []\n",
        "  new_df = preprocessing()\n",
        "  X = new_df.drop(['SEASON'], axis=1)._get_numeric_data().copy()\n",
        "  y = X[\"HOME_TEAM_WINS\"]\n",
        "  X = X.drop([\"HOME_TEAM_WINS\"],axis=1)\n",
        "  folds = KFold(n_splits = 5)\n",
        "  print(\"total folds = \",folds.get_n_splits(X))\n",
        "    \n",
        "    \n",
        "  for train_index, test_index in folds.split(X):\n",
        "    X_train, X_test = X.iloc[train_index], X.iloc[test_index]\n",
        "    y_train, y_test = y.iloc[train_index], y.iloc[test_index]\n",
        "    \n",
        "    model=tree.DecisionTreeClassifier(criterion=\"entropy\")\n",
        "\n",
        "    clf = make_pipeline(StandardScaler(),model)\n",
        "    clf.fit(X_train,y_train)\n",
        "    test_preds = clf.predict(X_test)\n",
        "    print(classification_report(y_true=y_test,y_pred=test_preds))\n",
        "    score.append(accuracy_score(y_true=y_test,y_pred=test_preds))\n",
        "    \n",
        "    \n",
        "  print(f' 5 Fold Cross Validation Accuracy Score is  :  {sum(score)/len(score)} \\n\\n') \n",
        "  conf = confusion_matrix(y_true=y_test,y_pred=test_preds)\n",
        "  confu_matrix = pd.DataFrame(conf, columns=['Predicted loose', 'Predicted Win'],\n",
        "    index=['Actual loose', 'Actual Win'])\n",
        "\n",
        "  print(confu_matrix)\n",
        "  \n",
        "  print('\\n \\n Per Tag Accuracies ')\n",
        "\n",
        "  ppos = per_pos(conf)\n",
        "  print(ppos)\n",
        "\n",
        "  fp,fn = fp_fn(conf)\n",
        "\n",
        "  print('\\n\\n False positives ')\n",
        "  print(fp)\n",
        "\n",
        "  print('\\n \\n False Negatives ')\n",
        "  print(fn)\n",
        "\n",
        "  sns.set(font_scale=1.4)\n",
        "  sns.heatmap(conf,annot=True, annot_kws={\"size\": 20})\n",
        "  plt.xlabel(\"Predicted\")\n",
        "  plt.ylabel(\"Actual\") \n",
        "  plt.show()"
      ],
      "execution_count": null,
      "outputs": [
        {
          "output_type": "stream",
          "text": [
            "total folds =  5\n",
            "              precision    recall  f1-score   support\n",
            "\n",
            "           0       0.40      0.48      0.44      1725\n",
            "           1       0.60      0.52      0.55      2574\n",
            "\n",
            "    accuracy                           0.50      4299\n",
            "   macro avg       0.50      0.50      0.50      4299\n",
            "weighted avg       0.52      0.50      0.51      4299\n",
            "\n",
            "              precision    recall  f1-score   support\n",
            "\n",
            "           0       0.43      0.42      0.42      1735\n",
            "           1       0.61      0.62      0.61      2564\n",
            "\n",
            "    accuracy                           0.54      4299\n",
            "   macro avg       0.52      0.52      0.52      4299\n",
            "weighted avg       0.54      0.54      0.54      4299\n",
            "\n",
            "              precision    recall  f1-score   support\n",
            "\n",
            "           0       0.44      0.45      0.45      1724\n",
            "           1       0.63      0.62      0.62      2575\n",
            "\n",
            "    accuracy                           0.55      4299\n",
            "   macro avg       0.53      0.53      0.53      4299\n",
            "weighted avg       0.55      0.55      0.55      4299\n",
            "\n",
            "              precision    recall  f1-score   support\n",
            "\n",
            "           0       0.46      0.52      0.49      1788\n",
            "           1       0.62      0.56      0.59      2511\n",
            "\n",
            "    accuracy                           0.54      4299\n",
            "   macro avg       0.54      0.54      0.54      4299\n",
            "weighted avg       0.55      0.54      0.55      4299\n",
            "\n",
            "              precision    recall  f1-score   support\n",
            "\n",
            "           0       0.45      0.41      0.43      1828\n",
            "           1       0.59      0.62      0.61      2471\n",
            "\n",
            "    accuracy                           0.53      4299\n",
            "   macro avg       0.52      0.52      0.52      4299\n",
            "weighted avg       0.53      0.53      0.53      4299\n",
            "\n",
            " 5 Fold Cross Validation Accuracy Score is  :  0.533705512909979 \n",
            "\n",
            "\n",
            "              Predicted loose  Predicted Win\n",
            "Actual loose              754           1074\n",
            "Actual Win                930           1541\n",
            "\n",
            " \n",
            " Per Tag Accuracies \n",
            "{'Lose': 0.412472647702407, 'Win': 0.6236341562120599}\n",
            "\n",
            "\n",
            " False positives \n",
            "{'Win': 1074, 'Lose': 930}\n",
            "\n",
            " \n",
            " False Negatives \n",
            "{'Win': 930, 'Lose': 1074}\n"
          ],
          "name": "stdout"
        },
        {
          "output_type": "display_data",
          "data": {
            "image/png": "[encoded data removed]",
            "text/plain": [
              "<Figure size 432x288 with 2 Axes>"
            ]
          },
          "metadata": {
            "tags": []
          }
        }
      ]
    }
  ]
}