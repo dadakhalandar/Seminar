{
  "nbformat": 4,
  "nbformat_minor": 0,
  "metadata": {
    "colab": {
      "name": "SVM.ipynb",
      "provenance": []
    },
    "kernelspec": {
      "name": "python3",
      "display_name": "Python 3"
    },
    "language_info": {
      "name": "python"
    }
  },
  "cells": [
    {
      "cell_type": "markdown",
      "metadata": {
        "id": "gCi_lpKloJa9"
      },
      "source": [
        "##Support vector machine"
      ]
    },
    {
      "cell_type": "code",
      "metadata": {
        "id": "sGRgLDl6oJsh"
      },
      "source": [
        "import pandas as pd\n",
        "from sklearn.model_selection import TimeSeriesSplit, train_test_split\n",
        "from sklearn.metrics import  classification_report, log_loss, roc_auc_score, accuracy_score, confusion_matrix\n",
        "from sklearn.model_selection import KFold\n",
        "from sklearn.pipeline import make_pipeline \n",
        "from sklearn.preprocessing import StandardScaler\n",
        "import seaborn as sns\n",
        "import matplotlib.pyplot as plt\n",
        "from sklearn.svm import SVC"
      ],
      "execution_count": null,
      "outputs": []
    },
    {
      "cell_type": "markdown",
      "metadata": {
        "id": "6mhbA1-4zwcd"
      },
      "source": [
        "#Note: Please add games.csv and ranking.csv file in the Files section"
      ]
    },
    {
      "cell_type": "code",
      "metadata": {
        "id": "A1ggeHB4m9le"
      },
      "source": [
        "#returning the decade from the season\n",
        "def season(data):\n",
        " \n",
        "  return (data%10000)"
      ],
      "execution_count": null,
      "outputs": []
    },
    {
      "cell_type": "code",
      "metadata": {
        "id": "4bVLVjHQm9pE"
      },
      "source": [
        "\n",
        "#function to add + 1 seasonID to merge current games records with previous seasons standings\n",
        "def fun_inc(data):\n",
        "  \n",
        "   return(data+1)"
      ],
      "execution_count": null,
      "outputs": []
    },
    {
      "cell_type": "code",
      "metadata": {
        "id": "KmkbkNBVnJpk"
      },
      "source": [
        "#function to dec 1 from SeasonID to get back the original season IDS\n",
        "def fun_dec(data):\n",
        "  \n",
        "  return(data-1)\n"
      ],
      "execution_count": null,
      "outputs": []
    },
    {
      "cell_type": "code",
      "metadata": {
        "id": "E6ESheP7nJs6"
      },
      "source": [
        "#Preprocessing the dataset\n",
        "def preprocessing():\n",
        "  games_cols = ['GAME_DATE_EST','GAME_ID','HOME_TEAM_ID','VISITOR_TEAM_ID','SEASON','HOME_TEAM_WINS']\n",
        "  df = pd.read_csv('games.csv', usecols = games_cols,parse_dates=[\"GAME_DATE_EST\"],infer_datetime_format=True)\n",
        "  df = df.drop_duplicates().sort_values(\"GAME_DATE_EST\").set_index([\"GAME_DATE_EST\"])\n",
        "  team_rank = pd.read_csv('ranking.csv', parse_dates=['STANDINGSDATE'])\n",
        "  team_rank.sort_values(\"STANDINGSDATE\",inplace = True)\n",
        "\n",
        "  team_rank['SEASON_ID'] = team_rank['SEASON_ID'].apply(season)\n",
        "\n",
        "\n",
        "  team_rank['SEASON_ID'] = team_rank['SEASON_ID'].apply(fun_inc)\n",
        "  team_rank.drop([\"HOME_RECORD\",\"CONFERENCE\",\"LEAGUE_ID\",\"ROAD_RECORD\"],axis=1,inplace=True) \n",
        "  team_rank.set_index(\"STANDINGSDATE\",inplace=True)\n",
        "\n",
        "  team_rank.astype({'SEASON_ID': 'int32'})\n",
        "  df_final_rank = team_rank[team_rank[\"G\"]==82]\n",
        "  df_final_rank = df_final_rank.drop_duplicates()\n",
        "\n",
        "  #inner Join for the home team\n",
        "  new_df = pd.merge(df,df_final_rank.add_suffix(\"_homeTeam\"),how = \"inner\", left_on=[\"HOME_TEAM_ID\", \"SEASON\"], right_on=['TEAM_ID_homeTeam', \"SEASON_ID_homeTeam\"])\n",
        "\n",
        "  #inner Join for the away team\n",
        "  new_df = pd.merge(new_df,df_final_rank.add_suffix(\"_visitorTeam\"),how = \"inner\", left_on=[\"VISITOR_TEAM_ID\", \"SEASON\"], right_on=['TEAM_ID_visitorTeam', \"SEASON_ID_visitorTeam\"])\n",
        "  \n",
        "  new_df.drop([\"TEAM_ID_homeTeam\",\"SEASON_ID_visitorTeam\",\"TEAM_ID_visitorTeam\"],axis=1,inplace=True)\n",
        "  new_df['SEASON_ID_homeTeam'] = new_df['SEASON_ID_homeTeam'].apply(fun_dec)\n",
        "  return new_df"
      ],
      "execution_count": null,
      "outputs": []
    },
    {
      "cell_type": "code",
      "metadata": {
        "id": "-X5f_aQQnJwG"
      },
      "source": [
        "def fp_fn(confu_matrix):\n",
        "    fp,fn = {},{}\n",
        "    fn['Win'] = confu_matrix[1][0]\n",
        "    fn['Lose'] = confu_matrix[0][1]\n",
        "    fp['Win'] = confu_matrix[0][1]\n",
        "    fp['Lose'] = confu_matrix[1][0]\n",
        "    return fp,fn\n"
      ],
      "execution_count": null,
      "outputs": []
    },
    {
      "cell_type": "code",
      "metadata": {
        "id": "9BtEdyNWnfir"
      },
      "source": [
        "def per_pos(confu_matrix):\n",
        "    ppos = {}\n",
        "    ppos['Lose'] = confu_matrix[0][0]/(confu_matrix[0][0]+confu_matrix[0][1])\n",
        "    ppos['Win'] = confu_matrix[1][1]/(confu_matrix[1][0]+confu_matrix[1][1])\n",
        "    return ppos"
      ],
      "execution_count": null,
      "outputs": []
    },
    {
      "cell_type": "markdown",
      "metadata": {
        "id": "ihWCxlR0PdOV"
      },
      "source": [
        "#Linear Kernel and Radial Basis Function Kernel\n",
        "try to uncomment accordingly "
      ]
    },
    {
      "cell_type": "code",
      "metadata": {
        "colab": {
          "base_uri": "https://localhost:8080/",
          "height": 1000
        },
        "id": "qm6pn4tInflx",
        "outputId": "53bf9e0f-a052-41b1-eedd-8eb6ff304472"
      },
      "source": [
        "if __name__ == '__main__':\n",
        "\n",
        "  #score list keeps record of all 5 fold accuracies\n",
        "  score = []\n",
        "  new_df = preprocessing()\n",
        "  X = new_df.drop(['SEASON'], axis=1)._get_numeric_data().copy()\n",
        "  y = X[\"HOME_TEAM_WINS\"]\n",
        "  X = X.drop([\"HOME_TEAM_WINS\"],axis=1)\n",
        "  folds = KFold(n_splits = 5)\n",
        "  print(\"total folds = \",folds.get_n_splits(X))\n",
        "  for train_index, test_index in folds.split(X):\n",
        "    X_train, X_test = X.iloc[train_index], X.iloc[test_index]\n",
        "    y_train, y_test = y.iloc[train_index], y.iloc[test_index]\n",
        "    \n",
        "    ##use the below clf for Linear kernel\n",
        "    clf = make_pipeline(StandardScaler(), SVC(kernel ='linear', C = 1))\n",
        "    ## use the below clf for 'Radial Basis Function kernel'\n",
        "    #clf = make_pipeline(StandardScaler(), SVC(gamma='auto'))\n",
        "    clf.fit(X_train,y_train)\n",
        "    test_preds = clf.predict(X_test)\n",
        "    print(classification_report(y_true=y_test,y_pred=test_preds))\n",
        "    score.append(accuracy_score(y_true=y_test,y_pred=test_preds))\n",
        "  print(f'5 Fold Cross Validation Accuracy Score is  :  {sum(score)/len(score)} \\n\\n') \n",
        "  conf = confusion_matrix(y_true=y_test,y_pred=test_preds)\n",
        "  confu_matrix = pd.DataFrame(conf, columns=['Predicted loose', 'Predicted Win'],\n",
        "    index=['Actual loose', 'Actual Win'])\n",
        "  \n",
        "  print(confu_matrix)\n",
        "  \n",
        "  print('\\n \\n Per pos tag Accuracies ')\n",
        "  ppos = per_pos(conf)\n",
        "  print(ppos)\n",
        "  fp,fn = fp_fn(conf)\n",
        "\n",
        "  print('\\n\\n False positives ')\n",
        "  print(fp)\n",
        "\n",
        "  print('\\n \\n False Negatives ')\n",
        "  print(fn)\n",
        "  \n",
        "  sns.set(font_scale=1.4)\n",
        "  sns.heatmap(conf,annot=True, annot_kws={\"size\": 20})\n",
        "  plt.xlabel(\"Predicted\")\n",
        "  plt.ylabel(\"Actual\") \n",
        "  plt.show()\n",
        "  "
      ],
      "execution_count": null,
      "outputs": [
        {
          "output_type": "stream",
          "text": [
            "total folds =  5\n",
            "              precision    recall  f1-score   support\n",
            "\n",
            "           0       0.50      0.21      0.30      1725\n",
            "           1       0.62      0.86      0.72      2574\n",
            "\n",
            "    accuracy                           0.60      4299\n",
            "   macro avg       0.56      0.53      0.51      4299\n",
            "weighted avg       0.57      0.60      0.55      4299\n",
            "\n",
            "              precision    recall  f1-score   support\n",
            "\n",
            "           0       0.57      0.27      0.36      1735\n",
            "           1       0.63      0.86      0.73      2564\n",
            "\n",
            "    accuracy                           0.62      4299\n",
            "   macro avg       0.60      0.56      0.55      4299\n",
            "weighted avg       0.61      0.62      0.58      4299\n",
            "\n",
            "              precision    recall  f1-score   support\n",
            "\n",
            "           0       0.61      0.31      0.41      1724\n",
            "           1       0.65      0.87      0.75      2575\n",
            "\n",
            "    accuracy                           0.64      4299\n",
            "   macro avg       0.63      0.59      0.58      4299\n",
            "weighted avg       0.64      0.64      0.61      4299\n",
            "\n",
            "              precision    recall  f1-score   support\n",
            "\n",
            "           0       0.59      0.30      0.40      1788\n",
            "           1       0.63      0.85      0.73      2511\n",
            "\n",
            "    accuracy                           0.62      4299\n",
            "   macro avg       0.61      0.58      0.56      4299\n",
            "weighted avg       0.62      0.62      0.59      4299\n",
            "\n"
          ],
          "name": "stdout"
        },
        {
          "output_type": "stream",
          "text": [
            "/usr/local/lib/python3.7/dist-packages/sklearn/metrics/_classification.py:1272: UndefinedMetricWarning: Precision and F-score are ill-defined and being set to 0.0 in labels with no predicted samples. Use `zero_division` parameter to control this behavior.\n",
            "  _warn_prf(average, modifier, msg_start, len(result))\n"
          ],
          "name": "stderr"
        },
        {
          "output_type": "stream",
          "text": [
            "              precision    recall  f1-score   support\n",
            "\n",
            "           0       0.00      0.00      0.00      1828\n",
            "           1       0.57      1.00      0.73      2471\n",
            "\n",
            "    accuracy                           0.57      4299\n",
            "   macro avg       0.29      0.50      0.36      4299\n",
            "weighted avg       0.33      0.57      0.42      4299\n",
            "\n",
            "5 Fold Cross Validation Accuracy Score is  :  0.612468015817632 \n",
            "\n",
            "\n",
            "              Predicted loose  Predicted Win\n",
            "Actual loose                0           1828\n",
            "Actual Win                  0           2471\n",
            "\n",
            " \n",
            " Per Pos Tag Accuracies \n",
            "{'Lose': 0.0, 'Win': 1.0}\n",
            "\n",
            "\n",
            " False positives \n",
            "{'Win': 1828, 'Lose': 0}\n",
            "\n",
            " \n",
            " False Negatives \n",
            "{'Win': 0, 'Lose': 1828}\n"
          ],
          "name": "stdout"
        },
        {
          "output_type": "display_data",
          "data": {
            "image/png": "[encoded data removed]",
            "text/plain": [
              "<Figure size 432x288 with 2 Axes>"
            ]
          },
          "metadata": {
            "tags": []
          }
        }
      ]
    }
  ]
}